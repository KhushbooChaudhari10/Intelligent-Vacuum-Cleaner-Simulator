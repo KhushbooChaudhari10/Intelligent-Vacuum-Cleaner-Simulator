{
 "cells": [
  {
   "cell_type": "code",
   "execution_count": 33,
   "id": "39849cfd-a910-4dd4-b298-131ef3607ae6",
   "metadata": {},
   "outputs": [],
   "source": [
    "import random\n",
    "import tkinter as tk\n",
    "from tkinter import ttk"
   ]
  },
  {
   "cell_type": "code",
   "execution_count": 15,
   "id": "400700c0-1b6e-4156-92d0-92c375dfc8ed",
   "metadata": {},
   "outputs": [],
   "source": [
    "def reflex_agent(location, status):\n",
    "    if status == 'Dirty':\n",
    "        return 'Clean'\n",
    "    elif location == 'A':\n",
    "        return 'Right'\n",
    "    elif location == 'B':\n",
    "        return 'Down'\n",
    "    elif location == 'C':\n",
    "        return 'Left'\n",
    "    elif location == 'D':\n",
    "        return 'Up'"
   ]
  },
  {
   "cell_type": "code",
   "execution_count": 35,
   "id": "a6d9c0ea-dcab-45d1-8ee3-93da6a9d983c",
   "metadata": {},
   "outputs": [],
   "source": [
    "def display_grid(environment, location):\n",
    "    grid = [['A', 'B'],\n",
    "            ['D', 'C']]\n",
    "    \n",
    "    output = \"\"    \n",
    "    for row in grid:\n",
    "        line = \"\"\n",
    "        for loc in row:\n",
    "            status = environment[loc]\n",
    "            if loc == location:\n",
    "                line += f\"[Robot {status}]\"\n",
    "            else:\n",
    "                line += f\"[{status}]\"\n",
    "        output += line + \"\\n\"\n",
    "    return output"
   ]
  },
  {
   "cell_type": "code",
   "execution_count": 41,
   "id": "2e5e1a0d-5f8a-4faa-bf1b-70d4d93f35bd",
   "metadata": {},
   "outputs": [],
   "source": [
    "def run_simulator():\n",
    "    environment = {\n",
    "        'A' : var_a.get(),\n",
    "        'B' : var_b.get(),\n",
    "        'C' : var_c.get(),\n",
    "        'D' : var_d.get()\n",
    "        \n",
    "    }\n",
    "    location = 'A'\n",
    "    score = 0\n",
    "    output_text = \"Initial Environment:\\n\"\n",
    "    output_text += display_grid(environment, location) + \"\\n\"\n",
    "    \n",
    "    for step in range(8):\n",
    "        status = environment[location]\n",
    "        output_text += f\"Step {step + 1}: Vacuum at {location} - {status}\\n\"\n",
    "\n",
    "\n",
    "        action = reflex_agent(location, status)\n",
    "        print(f\"action : {action}\")\n",
    "\n",
    "        if action == 'Clean':\n",
    "            environment[location] = 'Clean'\n",
    "            score += 10\n",
    "        else:\n",
    "            score -= 1\n",
    "            if location == 'A' and action == 'Right':\n",
    "                location = 'B'\n",
    "            elif location == 'A' and action == 'Down':\n",
    "                location = 'D'\n",
    "            elif location == 'B' and action == 'left':\n",
    "                location = 'A'\n",
    "            elif location == 'B' and action == 'Down':\n",
    "                location = 'C'\n",
    "            elif location == 'C' and action == 'Left':\n",
    "                location = 'D'\n",
    "            elif location == 'C' and action == 'Up':\n",
    "                location = 'B'\n",
    "            elif location == 'D' and action == 'Right':\n",
    "                location = 'C'\n",
    "            elif location == 'D' and action == 'Up':\n",
    "                location = 'A'\n",
    "\n",
    "        output_text += display_grid(environment, location)\n",
    "        output_text += f\"Current Score: {score}\\n-----\\n\"\n",
    "\n",
    "    output_text += f\"\\nFinal Score: {score}\\n\"\n",
    "    output_text += \"Final Environment State:\\n\"\n",
    "    output_text += display_grid(environment, location)\n",
    "\n",
    "    output_label.config(text=output_text)\n",
    "\n",
    "\n",
    "\n"
   ]
  },
  {
   "cell_type": "code",
   "execution_count": 43,
   "id": "ea923a81-436d-4ac2-90ec-b2b0f96a71b5",
   "metadata": {},
   "outputs": [
    {
     "name": "stdout",
     "output_type": "stream",
     "text": [
      "action : Right\n",
      "action : Clean\n",
      "action : Down\n",
      "action : Left\n",
      "action : Clean\n",
      "action : Up\n",
      "action : Right\n",
      "action : Down\n"
     ]
    }
   ],
   "source": [
    "# GUI Setup\n",
    "root = tk.Tk()\n",
    "root.title(\"Vacuum Cleaner Simulator\")\n",
    "\n",
    "# Input variables\n",
    "var_a = tk.StringVar(value=\"Dirty\")\n",
    "var_b = tk.StringVar(value=\"Dirty\")\n",
    "var_c = tk.StringVar(value=\"Dirty\")\n",
    "var_d = tk.StringVar(value=\"Dirty\")\n",
    "\n",
    "# Input form\n",
    "ttk.Label(root, text=\"Set Initial Room Status:\").grid(row=0, column=0, columnspan=2)\n",
    "\n",
    "for i, (label, var) in enumerate([(\"A\", var_a), (\"B\", var_b), (\"C\", var_c), (\"D\", var_d)]):\n",
    "    ttk.Label(root, text=f\"Room {label}:\").grid(row=i+1, column=0, sticky=\"e\")\n",
    "    ttk.OptionMenu(root, var, var.get(), \"Clean\", \"Dirty\").grid(row=i+1, column=1)\n",
    "\n",
    "# Run Button\n",
    "ttk.Button(root, text=\"Run Simulator\", command=run_simulator).grid(row=5, column=0, columnspan=2, pady=10)\n",
    "\n",
    "# Output\n",
    "output_label = tk.Label(root, text=\"\", justify=\"left\", font=(\"Courier\", 10))\n",
    "output_label.grid(row=6, column=0, columnspan=2)\n",
    "\n",
    "root.mainloop()"
   ]
  },
  {
   "cell_type": "code",
   "execution_count": null,
   "id": "5cada396-0627-49fa-960b-0d046a0f8a42",
   "metadata": {},
   "outputs": [],
   "source": []
  }
 ],
 "metadata": {
  "kernelspec": {
   "display_name": "Python 3 (ipykernel)",
   "language": "python",
   "name": "python3"
  },
  "language_info": {
   "codemirror_mode": {
    "name": "ipython",
    "version": 3
   },
   "file_extension": ".py",
   "mimetype": "text/x-python",
   "name": "python",
   "nbconvert_exporter": "python",
   "pygments_lexer": "ipython3",
   "version": "3.12.7"
  }
 },
 "nbformat": 4,
 "nbformat_minor": 5
}
